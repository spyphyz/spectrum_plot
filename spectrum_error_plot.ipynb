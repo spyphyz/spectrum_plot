{
 "cells": [
  {
   "cell_type": "code",
   "execution_count": 1,
   "metadata": {},
   "outputs": [],
   "source": [
    "%matplotlib inline"
   ]
  },
  {
   "cell_type": "code",
   "execution_count": 2,
   "metadata": {},
   "outputs": [],
   "source": [
    "import os\n",
    "import matplotlib.pyplot as plt\n",
    "import numpy as np\n",
    "import pandas as pd\n",
    "from pandas import DataFrame"
   ]
  },
  {
   "cell_type": "code",
   "execution_count": 3,
   "metadata": {
    "scrolled": true
   },
   "outputs": [],
   "source": [
    "path = 'Dropbox/OpenUniversity/S382_Astrophysics/SDSS_Project/sdss_abell/spectrum_z03_z18/master_z03_z18/auto_z03_z18'\n",
    "file = 'spectrum_z03_z18_auto.csv' #this would be the SpecCombine csv output file\n",
    "df = pd.read_csv(os.path.join(path, file))"
   ]
  },
  {
   "cell_type": "code",
   "execution_count": 41,
   "metadata": {},
   "outputs": [
    {
     "data": {
      "text/html": [
       "<div>\n",
       "<style scoped>\n",
       "    .dataframe tbody tr th:only-of-type {\n",
       "        vertical-align: middle;\n",
       "    }\n",
       "\n",
       "    .dataframe tbody tr th {\n",
       "        vertical-align: top;\n",
       "    }\n",
       "\n",
       "    .dataframe thead th {\n",
       "        text-align: right;\n",
       "    }\n",
       "</style>\n",
       "<table border=\"1\" class=\"dataframe\">\n",
       "  <thead>\n",
       "    <tr style=\"text-align: right;\">\n",
       "      <th></th>\n",
       "      <th>wavelength</th>\n",
       "      <th>flux</th>\n",
       "      <th>is_good</th>\n",
       "      <th>data_points</th>\n",
       "      <th>scatter</th>\n",
       "      <th>error</th>\n",
       "      <th>Unnamed: 6</th>\n",
       "      <th>power_law_continuum_model</th>\n",
       "      <th>flux_minus_model</th>\n",
       "      <th>SD</th>\n",
       "      <th>SNR</th>\n",
       "      <th>+SEM</th>\n",
       "      <th>-SEM</th>\n",
       "    </tr>\n",
       "  </thead>\n",
       "  <tbody>\n",
       "    <tr>\n",
       "      <th>5231</th>\n",
       "      <td>6513</td>\n",
       "      <td>43.335573</td>\n",
       "      <td>1</td>\n",
       "      <td>1</td>\n",
       "      <td>0.0</td>\n",
       "      <td>2.718371</td>\n",
       "      <td>NaN</td>\n",
       "      <td>32.015205</td>\n",
       "      <td>11.320368</td>\n",
       "      <td>2.718371</td>\n",
       "      <td>15.941743</td>\n",
       "      <td>46.053944</td>\n",
       "      <td>40.617202</td>\n",
       "    </tr>\n",
       "    <tr>\n",
       "      <th>5232</th>\n",
       "      <td>6515</td>\n",
       "      <td>44.464527</td>\n",
       "      <td>1</td>\n",
       "      <td>1</td>\n",
       "      <td>0.0</td>\n",
       "      <td>2.739051</td>\n",
       "      <td>NaN</td>\n",
       "      <td>32.000199</td>\n",
       "      <td>12.464328</td>\n",
       "      <td>2.739051</td>\n",
       "      <td>16.233552</td>\n",
       "      <td>47.203578</td>\n",
       "      <td>41.725476</td>\n",
       "    </tr>\n",
       "  </tbody>\n",
       "</table>\n",
       "</div>"
      ],
      "text/plain": [
       "      wavelength       flux  is_good  data_points  scatter     error  \\\n",
       "5231        6513  43.335573        1            1      0.0  2.718371   \n",
       "5232        6515  44.464527        1            1      0.0  2.739051   \n",
       "\n",
       "      Unnamed: 6  power_law_continuum_model  flux_minus_model        SD  \\\n",
       "5231         NaN                  32.015205         11.320368  2.718371   \n",
       "5232         NaN                  32.000199         12.464328  2.739051   \n",
       "\n",
       "            SNR       +SEM       -SEM  \n",
       "5231  15.941743  46.053944  40.617202  \n",
       "5232  16.233552  47.203578  41.725476  "
      ]
     },
     "execution_count": 41,
     "metadata": {},
     "output_type": "execute_result"
    }
   ],
   "source": [
    "df['SD']=df['error']*df['data_points']**0.5\n",
    "df['SNR']=df['flux']/df['SD']\n",
    "s = 1 #s=SNR_scaling_factor\n",
    "df['SNR'] = df['SNR']*s\n",
    "df['+SEM'] = df['flux']+df['error']\n",
    "df['-SEM'] = df['flux']-df['error']\n",
    "df.tail(2)"
   ]
  },
  {
   "cell_type": "code",
   "execution_count": 72,
   "metadata": {
    "scrolled": true
   },
   "outputs": [
    {
     "data": {
      "image/png": "[encoded data removed]",
      "text/plain": [
       "<matplotlib.figure.Figure at 0x10b7bfa20>"
      ]
     },
     "metadata": {},
     "output_type": "display_data"
    }
   ],
   "source": [
    "wave = df['wavelength']\n",
    "err_1 = df['flux']+df['SD'] # +SD\n",
    "err_2 = df['flux']-df['SD'] # -SD\n",
    "# err_3 = df['flux']+*df['error'] # +SEM\n",
    "# err_4 = df['flux']-*df['error'] # -SEM\n",
    "\n",
    "ax1 = df.plot(x='wavelength', y='flux', lw=0.3, color='red', label='mean') \n",
    "\n",
    "ax2 = df.plot(x='wavelength', y='+SEM', lw=0.000001\n",
    "             , color='yellow', label='±SD', ax=ax1)\n",
    "\n",
    "# ax3 = df.plot(x='wavelength', y ='+SEM', lw=0.05\n",
    " #            , color='grey', label='±SD', ax=ax1)\n",
    "\n",
    "#ax2 = df.plot(x='wavelength', y='SNR', lw=0.2\n",
    "#             , color='red', ax=ax1)\n",
    "\n",
    "plt.legend()\n",
    "plt.title('Composite Spectrum Of Broadline QSO z 0.3 - 1.8', fontsize=10, color='black')\n",
    "plt.grid()\n",
    "\n",
    "\n",
    "plt.fill_between(wave, err_1, err_2, color='#CCCCCC') # ±SD\n",
    "# plt.fill_between(wave, err_3, err_4, color='grey') # ±SEM\n",
    "\n",
    "# ax1.set_facecolor('black')\n",
    "\n",
    "ax1.text(0.82, 0.7, '(n = 297)',\n",
    "        verticalalignment='bottom', horizontalalignment='left',\n",
    "        transform=ax1.transAxes,\n",
    "        color='blue', fontsize=10)\n",
    "\n",
    "plt.xlim(1250, 6550)\n",
    "plt.ylim(0,520)\n",
    "\n",
    "plt.xlabel('Emitted Wavelength / Angstroms',  fontsize=13, color='grey')\n",
    "plt.ylabel('Spectral Flux Density / Arbitrary Units', fontsize=10, color='grey')\n",
    "\n",
    "plt.savefig(os.path.join(path, 'spectrum_z03_z18_auto.png'), dpi = 1080)\n",
    "#plt.savefig(os.path.join(path, 'speccombine_z1676_z1800.pdf'))"
   ]
  },
  {
   "cell_type": "code",
   "execution_count": null,
   "metadata": {},
   "outputs": [],
   "source": []
  }
 ],
 "metadata": {
  "kernelspec": {
   "display_name": "Python 3",
   "language": "python",
   "name": "python3"
  },
  "language_info": {
   "codemirror_mode": {
    "name": "ipython",
    "version": 3
   },
   "file_extension": ".py",
   "mimetype": "text/x-python",
   "name": "python",
   "nbconvert_exporter": "python",
   "pygments_lexer": "ipython3",
   "version": "3.6.4"
  }
 },
 "nbformat": 4,
 "nbformat_minor": 2
}
